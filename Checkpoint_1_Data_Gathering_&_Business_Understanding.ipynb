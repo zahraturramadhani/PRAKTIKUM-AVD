{
  "nbformat": 4,
  "nbformat_minor": 0,
  "metadata": {
    "colab": {
      "provenance": [],
      "authorship_tag": "ABX9TyOqDjwVD6FbwzRnGobYHKmm",
      "include_colab_link": true
    },
    "kernelspec": {
      "name": "python3",
      "display_name": "Python 3"
    },
    "language_info": {
      "name": "python"
    }
  },
  "cells": [
    {
      "cell_type": "markdown",
      "metadata": {
        "id": "view-in-github",
        "colab_type": "text"
      },
      "source": [
        "<a href=\"https://colab.research.google.com/github/zahraturramadhani/PRAKTIKUM-AVD/blob/main/Checkpoint_1_Data_Gathering_%26_Business_Understanding.ipynb\" target=\"_parent\"><img src=\"https://colab.research.google.com/assets/colab-badge.svg\" alt=\"Open In Colab\"/></a>"
      ]
    },
    {
      "cell_type": "markdown",
      "source": [
        "#####**Judul: Fashion Products - Analisis Preferensi Fashion Products untuk Meningkatkan Strategi Pemasaran pada Platform Amazon**"
      ],
      "metadata": {
        "id": "6pJDVCgxxyib"
      }
    },
    {
      "cell_type": "markdown",
      "source": [
        "------------------------------------------------------\n",
        "\n",
        "Nama :  Zahraturramadhani\n",
        "\n",
        "NIM  :  2409116014\n",
        "\n",
        "Kelas :  Sistem Informasi A'2024\n",
        "\n",
        "------------------------------------------------------"
      ],
      "metadata": {
        "id": "beYU-9F3ef34"
      }
    },
    {
      "cell_type": "markdown",
      "source": [
        "# **BUSINESS UNDERSTANDING**"
      ],
      "metadata": {
        "id": "mXEKd8nXuE0n"
      }
    },
    {
      "cell_type": "markdown",
      "source": [
        "###**Business Objective**"
      ],
      "metadata": {
        "id": "1PaZgbTVux78"
      }
    },
    {
      "cell_type": "markdown",
      "source": [
        "Tujuan utama proyek ini adalah untuk memahami preferensi pelanggan dalam transaksi produk fashion di platform Amazon guna meningkatkan strategi pemasaran yang berbasis data dan mengoptimalkan pengalaman pelanggan. Dengan menganalisis berbagai atribut produk seperti merek, kategori, harga, warna, ukuran, serta rating pelanggan, perusahaan dapat mengoptimalkan strategi promosi, rekomendasi produk, dan segmentasi pasar. Hasil analisis ini dapat digunakan untuk memprediksi tren pembelian, mengidentifikasi pola konsumsi, serta mengembangkan produk yang lebih sesuai dengan kebutuhan dan preferensi pelanggan. Dengan pendekatan ini, perusahaan dapat meningkatkan loyalitas pelanggan, memaksimalkan tingkat konversi, serta memperkuat daya saing di industri e-commerce yang sangat kompetitif.\n",
        "\n"
      ],
      "metadata": {
        "id": "pd8uvlRKvwRA"
      }
    },
    {
      "cell_type": "markdown",
      "source": [
        "###**Assess Situation**"
      ],
      "metadata": {
        "id": "iS1znlkvwt6z"
      }
    },
    {
      "cell_type": "markdown",
      "source": [
        "Amazon sebagai platform e-commerce terbesar memiliki ekosistem yang sangat kompetitif dalam industri fashion. Perubahan tren yang cepat, harga yang dinamis, serta banyaknya pilihan produk membuat pelanggan memiliki preferensi unik dalam berbelanja dan perilaku belanja yang beragam. Oleh karena itu, pemahaman yang mendalam tentang faktor-faktor yang mempengaruhi keputusan pembelian, seperti ulasan pelanggan, rating produk, strategi diskon, serta rekomendasi berbasis data, menjadi penting untuk meningkatkan pengalaman belanja pelanggan dan efektivitas pemasaran. Dengan menggunakan analisis data transaksi, perusahaan dapat menyesuaikan strategi promosi dan rekomendasi produk agar lebih sesuai dengan kebutuhan pelanggan di Amazon."
      ],
      "metadata": {
        "id": "MMqapu9Ow3nR"
      }
    },
    {
      "cell_type": "markdown",
      "source": [
        "###**Data Mining Goals**"
      ],
      "metadata": {
        "id": "dkK7MharxRy5"
      }
    },
    {
      "cell_type": "markdown",
      "source": [
        "Tujuan utama dari analisis data ini adalah mengidentifikasi pola pembelian pelanggan di Amazon berdasarkan atribut produk seperti kategori, warna, ukuran, harga, dan rating. Studi ini bertujuan untuk memahami hubungan antara faktor-faktor tersebut dalam keputusan pembelian serta mengelompokkan pelanggan ke dalam segmen tertentu berdasarkan preferensi mereka. Dengan informasi ini, perusahaan dapat meningkatkan strategi pemasaran berbasis data, seperti personalisasi rekomendasi produk, optimasi harga, dan kampanye promosi yang lebih efektif.\n",
        "\n"
      ],
      "metadata": {
        "id": "_X2TQASUxsCG"
      }
    },
    {
      "cell_type": "markdown",
      "source": [
        "###**Project Plan**"
      ],
      "metadata": {
        "id": "YHqZhvLxcV3J"
      }
    },
    {
      "cell_type": "markdown",
      "source": [
        "1. Business Understanding -> Menyusun Business Objective (tujuan bisnis) untuk mengidentifikasi dan menentukan tujuan - tujuan utama yang ingin dicapai melalui proyek analisis data, Assess Situation (menilai situasi) untuk menganalisis lingkungan bisnis, pesaing, dan tantangan dalam pemasaran fashion di Amazon, Data Mining Goals untuk menentukan tujuan spesifik yang ingin dicapai melalui proses analisis data digunakan untuk menemukan pola, tren, atau wawasan yang berguna bagi bisnis, serta menyusun project plan (perencanaan proyek) yang berisi panduan langkah langkah yang akan diambil selama proyek analisis data.\n",
        "\n",
        "2. Data Understanding -> Untuk mengidentifikasi sumber data transaksi fashion dengan menggunakan dataset dari kaggle, mengeksplorasi atribut apa saja  yang ada di dalam dataset seperti User ID, Product ID, Product Name, Brand, Category, Price, Rating, Color, dan Size, menganalisis distribusi data untuk memahami pola umum, dan juga mengidentifikasi kemungkinan data yang tidak lengkap, tidak relevan, atau duplikat yang dapat mempengaruhi hasil analisis.\n",
        "\n",
        "3. Data Preparation -> Membersihkan data dari duplikasi dan menangani data yang hilang atau tidak valid, normalisasi data untuk memastikan konsistensi, melakukan transformasi data untuk mempersiapkan proses analisis lebih lanjut, dan juga mengelompokkan atribut data yang memiliki relevansi tinggi terhadap preferensi pelanggan.\n",
        "\n",
        "4. Visualisasi -> Membuat grafik distribusi untuk melihat pola pembelian berdasarkan atribut produk, menampilkan hubungan antara rating produk dan faktor lain seperti harga atau kategori, menggunakan heatmap untuk mengidentifikasi korelasi antara berbagai atribut produk dan preferensi pelanggan, dan juga menganalisis tren penjualan berdasarkan waktu untuk memahami perubahan pola permintaan.\n",
        "\n",
        "5. Dashboard -> Membangun dashboard interaktif untuk menampilkan hasil analisis secara real-time dengan tools Tableau, menyediakan filter dinamis untuk memungkinkan eksplorasi lebih lanjut berdasarkan kategori, harga, warna, dan ukuran, menyertakan indikator kinerja utama (KPI) seperti rata-rata rating produk, jumlah transaksi, dan tren harga, dan juga memungkinkan integrasi dengan sistem rekomendasi produk berdasarkan preferensi pelanggan.\n",
        "\n",
        "6. Insight and Action -> Mengidentifikasi pola pembelian pelanggan dan segmentasi pasar berdasarkan analisis data, merekomendasikan strategi pemasaran berbasis data, seperti personalisasi promosi dan rekomendasi produk, menyediakan wawasan tentang kategori produk yang memiliki performa tinggi dan yang kurang diminati, menyusun strategi optimasi harga berdasarkan elastisitas permintaan, dan juga menggunakan hasil analisis untuk meningkatkan pengalaman pelanggan dan retensi di platform Amazon.\n",
        "\n"
      ],
      "metadata": {
        "id": "w8EuF2OecwU_"
      }
    },
    {
      "cell_type": "markdown",
      "source": [
        "#**Studi Kasus**"
      ],
      "metadata": {
        "id": "sTfsMZJKdNPw"
      }
    },
    {
      "cell_type": "markdown",
      "source": [
        "\n",
        "#    --- Latar Belakang\n",
        "\n",
        "\n",
        "\n",
        "\n",
        "\n",
        "\n",
        "\n"
      ],
      "metadata": {
        "id": "I9AAjqlmz4YN"
      }
    },
    {
      "cell_type": "markdown",
      "source": [
        "Industri fashion merupakan salah satu kategori produk yang paling kompetitif di e-commerce, termasuk di platform Amazon. Dengan jutaan produk yang tersedia dari berbagai macam merek, konsumen memiliki banyak pilihan dalam menentukan produk fashion yang sesuai dengan preferensi mereka. Faktor-faktor seperti tren mode yang terus berubah, harga yang kompetitif, ulasan pelanggan, serta strategi pemasaran yang efektif menjadi kunci dalam menarik perhatian pelanggan dan meningkatkan penjualan.\n",
        "\n",
        "Amazon merupakan salah satu platform e-commerce terbesar di dunia yang menawarkan berbagai kategori produk, termasuk fashion. Dalam persaingan yang semakin ketat, pemahaman terhadap preferensi pelanggan menjadi sangat penting untuk meningkatkan strategi pemasaran dan penjualan. Konsumen cenderung memilih produk berdasarkan berbagai faktor seperti merek, harga, warna, ukuran, serta ulasan dan rating dari pelanggan lain, dan juga adanya promosi yang menarik sebelum membuat keputusan pembelian. Tanpa strategi pemasaran yang berbasis data, sulit bagi sebuah merek untuk mempertahankan daya saing dan meningkatkan loyalitas pelanggan. Oleh karena itu, analisis data transaksi fashion di Amazon dapat membantu mengidentifikasi pola preferensi pelanggan, sehingga strategi pemasaran dapat lebih ditargetkan dan efektif."
      ],
      "metadata": {
        "id": "LvdlVgaE04nS"
      }
    },
    {
      "cell_type": "markdown",
      "source": [
        "\n",
        "\n",
        "#    --- Permasalahan yang terjadi\n",
        "\n"
      ],
      "metadata": {
        "id": "jl1h7Lrh47s7"
      }
    },
    {
      "cell_type": "markdown",
      "source": [
        "Meskipun Amazon menyediakan berbagai macam pilihan produk fashion, Amazon sendiri menghadapi beberapa tantangan yang sering mereka hadapi dalam strategi pemasaran, berikut adalah tantangan tersebut:\n",
        "\n",
        "1. Kurangnya pemahaman tentang preferensi pelanggan dalam pemasaran fashion di Amazon dapat menyebabkan promosi produk yang tidak sesuai dengan kebutuhan pasar. Hal ini terjadi karena kurangnya analisis data pelanggan, strategi pemasaran yang terlalu umum, serta perubahan tren mode yang cepat.\n",
        "Akibatnya, upaya pemasaran menjadi kurang efektif, tingkat konversi penjualan rendah, dan produk yang dipasarkan mungkin tidak mendapatkan perhatian yang diharapkan.\n",
        "\n",
        " Contoh nyata yang terjadi:\n",
        " * Kasus Merek Pakaian yang Mengabaikan Data Ukuran Pelanggan\n",
        "\n",
        "    Sebuah merek fashion di Amazon mencoba meningkatkan penjualan dengan menawarkan diskon besar untuk koleksi pakaian musim panas. Namun, mereka gagal melakukan analisis terhadap ukuran yang paling diminati di pasar target mereka. Sebagian besar stok yang dipromosikan adalah ukuran kecil (S) dan medium (M), padahal mayoritas pelanggan mereka justru lebih sering membeli ukuran besar (L dan XL). Akibatnya, produk yang dipromosikan tidak laku di segmen pelanggan utama mereka, sementara produk yang lebih diminati justru cepat kehabisan stok.\n",
        "\n",
        "2. Tingginya Persaingan Antar Merek\n",
        "Dalam industri fashion online, terutama di platform besar seperti Amazon, persaingan antar merek sangat ketat. Adanya ribuan produk dengan kategori yang sama bersaing untuk mendapatkan perhatian pelanggan. Situasi ini membuat pelanggan menghadapi banyak pilihan, sehingga cenderung mengalami kesulitan dalam memutuskan produk mana yang akan dibeli. Salah satu faktor utama yang memperburuk tantangan ini adalah algoritma Amazon yang mengutamakan produk dengan peforma penjualan yang tinggi, ulasan positif, dan optimasi SEO (Search Engine Optimization) yang baik. Jika sebuah produk tidak memenuhi kriteria tersebut, maka peluang untuk muncul di halaman pertama pencarian menjadi lebih kecil, yang berakibat pada rendahnya tingkat penjualan.\n",
        "\n",
        " Contoh nyata yang terjadi:\n",
        " * Kurangnya Diferensiasi Produk\n",
        "  \n",
        "    Dalam industri fashion, terutama di platform seperti Amazon, diferensiasi produk menjadi faktor penting untuk menarik perhatian pelanggan. Jika suatu merek tidak memiliki keunggulan unik (Unique Selling Proposition/USP), maka produk tersebut akan sulit bersaing karena pelanggan tidak memiliki alasan kuat untuk memilihnya dibandingkan merek lain. Misalnya, jika beberapa merek menjual kaos hitam polos dengan spesifikasi yang sama seperti bahan katun 100%, ukuran standar dan warna serupa, pelanggan cenderung memilih berdasarkan harga atau ulasan, bukan berdasarkan mereknya. Akibatnya, merek yang tidak memiliki strategi branding yang kuat akan kesulitan membangun loyalitas pelanggan.\n",
        "\n",
        "3. Efektivitas Strategi Pemasaran\n",
        "Dalam industri fashion online, banyak merek masih mengandalkan strategi pemasaran yang kurang berbasis data dalam menentukan produk yang paling menarik bagi pelanggan. Tanpa adanya analisis yang mendalam terhadap perilaku belanja, strategi pemasaran bisa menjadi kurang efektif, yang berakibat pada pemborosan anggaran iklan dan rendahnya tingkat konversi penjualan. Masih banyak nya bisnis masih menggunakan pendekatan tradisional dalam pemasaran, seperti menayangkan iklan secara luas tanpa adanya segmentasi pelanggan yang jelas. Mengakibatkannya produk yang di promosikan tidak sesuai dengana kebutuhan atau preferensi target pasar, sehingga tidak menghasilkan dampak yang maksimal.\n",
        "\n",
        " Contoh nyata yang terjadi:\n",
        " * Iklan yang Tidak Tepat Sasaran\n",
        "\n",
        "    Sebuah merek pakaian premium menayangkan iklan di Amazon kepada audiens umum tanpa mempertimbangkan daya beli pelanggan. Akibatnya, banyak calon pembeli yang tertarik melihat produk tetapi tidak melakukan pembelian karena harganya terlalu tinggi untuk mereka. Jika data pembelian sebelumnya dianalisis, merek ini bisa menargetkan pelanggan dengan tingkat pendapatan yang lebih sesuai.\n",
        "\n",
        " * Promosi yang Tidak Sesuai dengan Tren Konsumen\n",
        "\n",
        "    Misalnya, sebuah merek menargetkan kampanye pemasaran untuk menjual jaket musim dingin kepada semua pengguna Amazon, tanpa memperhitungkan lokasi geografis mereka. Akibatnya, pelanggan yang tinggal di daerah tropis menerima promosi produk yang tidak relevan bagi mereka, sehingga mengurangi efektivitas pemasaran dan meningkatkan biaya iklan tanpa hasil yang signifikan.\n",
        "\n",
        "\n",
        "\n",
        "\n",
        "\n",
        "\n",
        "\n",
        "\n",
        "\n",
        ""
      ],
      "metadata": {
        "id": "_mt_zaQm5HFu"
      }
    },
    {
      "cell_type": "markdown",
      "source": [
        "\n",
        "\n",
        "#    --- Solusi\n",
        "\n"
      ],
      "metadata": {
        "id": "gXmuef3BN4DS"
      }
    },
    {
      "cell_type": "markdown",
      "source": [
        "1. Meningkatkan pemahaman tentang preferensi pelanggan dengan mengumpulkan dan menganalisis data pembelian, ulasan, serta perilaku pelanggan untuk memahami tren dan preferensi dari pelanggan tersebut. Serta melakukan segmentasi pelanggan yang lebih spesifik dengan mengelompokkan pelanggan berdasarkan usia, jenis kelamin, gaya hidup, lokasi dan preferensi mode untuk menargetkan promosi yang lebih relevan.\n",
        "\n",
        " -> Solusi yang dapat diberikan yaitu:\n",
        "\n",
        " Jika sebuah merek menemukan bahwa mayoritas pelanggannya lebih sering membeli ukuran besar (L dan XL), maka mereka bisa menyesuaikan stok dan strategi promosi dengan fokus pada ukuran tersebut.\n",
        "\n",
        "2. Mengatasi tingginya persaingan antar merek menggunakan SEO dan listing produk dengan menggunakan kata kunci yang relevan dengan judul, dekripsi, dan tag produk agar lebih mudah ditemukan di pencarian Amazon, serta membangun citra merk yang kuat dengan menetapkan strategi branding yang jelas seperti desain kemasan yang unik dan tagline menarik.\n",
        "\n",
        " -> Solusi yang dapat diberikan yaitu:\n",
        "\n",
        " Jika sebuah merek kaos hitam polos bersaing dengan banyak merek lain, mereka bisa menonjolkan keunggulan seperti bahan premium anti kusut, teknologi anti-bau, atau fit yang lebih nyaman untuk berbagai bentuk tubuh.\n",
        "\n",
        "3. Meningkatkan efektivitas strategi pemasaran menggunakan pendekatan berbasis data dengan memanfaatkan analitik untuk memahami kapan dan bagaimana pelanggan berinteraksi dengan produk, serta menerapkan strategi Retargeting dengan menggunakan iklan retargeting untuk menampilkan kembali produk kepada pelanggan yang pernah melihatnya tetapi belum membeli dan juga mengoptimalkan kampanye promosi berdasarkan lokasi dan musim dengan menyesuaikan promosi dengan faktor geografis dan musim, misalnya hanya menampilkan iklan jaket musim dingin kepada pelanggan di daerah iklim dingin.\n",
        "\n",
        " -> Solusi yang dapat diberikan yaitu:\n",
        "\n",
        " Jika sebuah merek ingin menjual jaket musim dingin, mereka harus memastikan bahwa iklan hanya ditampilkan kepada pelanggan di negara dengan musim dingin, bukan di daerah tropis seperti Indonesia atau Brasil.\n",
        "\n",
        "\n",
        "\n"
      ],
      "metadata": {
        "id": "BECV4_B6OJNa"
      }
    },
    {
      "cell_type": "markdown",
      "source": [
        "# --- Hasil yang di dapat\n",
        "\n"
      ],
      "metadata": {
        "id": "4eDDARG6Vn3A"
      }
    },
    {
      "cell_type": "markdown",
      "source": [
        "1. Pemahaman Pelanggan Lebih Baik – Produk yang ditawarkan lebih sesuai dengan preferensi pelanggan, meningkatkan konversi penjualan dan mengurangi stok yang tidak laku.\n",
        "\n",
        " -> Contoh hasil nyata nya:\n",
        " Nike menggunakan data pelanggan untuk menyesuaikan rekomendasi produk dan strategi pemasaran. Dengan analisis tren belanja dan preferensi ukuran, mereka bisa menawarkan produk yang lebih sesuai dengan kebutuhan pelanggan. Hasilnya:\n",
        "\n",
        " ~ Peningkatan konversi penjualan online hingga 30%\n",
        "\n",
        " ~ Pengurangan stok yang tidak laku dengan sistem supply chain yang lebih efisien\n",
        "\n",
        "2. Peningkatan Daya Saing – Optimasi SEO dan strategi branding membuat produk lebih mudah ditemukan dan lebih unggul dibanding kompetitor.\n",
        "\n",
        " -> Contoh hasil nyata nya:\n",
        "\n",
        " Levi’s menggunakan strategi SEO berbasis data dan AI untuk meningkatkan visibilitas produknya di e-commerce seperti Amazon. Dengan pemanfaatan kata kunci populer dan strategi branding yang lebih kuat, hasilnya:\n",
        "\n",
        " ~ Peringkat produk Levi’s meningkat di hasil pencarian Amazon\n",
        " ~ Penjualan online tumbuh sebesar 35% dalam satu tahun\n",
        "\n",
        "3. Produk Lebih Menonjol – Diferensiasi yang jelas membantu menarik pelanggan, membangun loyalitas, dan mengurangi ketergantungan pada perang harga.\n",
        "\n",
        "  -> Contoh hasil nyata nya:\n",
        "\n",
        " Uniqlo berfokus pada diferensiasi produk dengan teknologi Heattech dan AIRism, bukan hanya bersaing harga. Mereka menggunakan riset pasar untuk memahami keunggulan yang paling diinginkan pelanggan. Hasilnya:\n",
        "\n",
        " ~ Pelanggan lebih loyal terhadap merek dibandingkan pesaing yang hanya mengandalkan harga\n",
        "\n",
        " ~ Produk-produk inovatifnya menjadi tren global dan terus diminati\n",
        "\n",
        "4. Strategi Pemasaran Lebih Efektif  – Iklan lebih tepat sasaran, meningkatkan konversi, menghemat biaya pemasaran, dan meningkatkan keuntungan.\n",
        "\n",
        " -> Contoh hasil nyata nya:\n",
        "\n",
        " Adidas memanfaatkan data demografi dan perilaku belanja pelanggan untuk menyesuaikan kampanye iklan digital. Dengan menargetkan pelanggan yang benar-benar tertarik pada produk mereka, hasilnya:\n",
        "\n",
        " ~ ROI iklan digital meningkat hingga 25%\n",
        "\n",
        " ~ Biaya pemasaran lebih efisien dan menghasilkan tingkat konversi yang lebih tinggi\n",
        "  \n",
        "\n",
        "5. Peningkatan Penjualan & Loyalitas Pelanggan – Dengan pendekatan berbasis data dan strategi yang lebih fokus, bisnis lebih berkembang di tengah persaingan yang ketat.\n",
        "\n",
        " -> Contoh hasil nyata nya:\n",
        "\n",
        " H&M menggunakan analitik big data untuk menentukan koleksi fashion yang akan mereka rilis berdasarkan permintaan pelanggan dan tren mode terbaru. Strategi ini menghasilkan:\n",
        "\n",
        " ~ Peningkatan penjualan online hingga 40% dalam beberapa tahun terakhir\n",
        "\n",
        " ~ Program loyalitas yang lebih efektif dengan penawaran personalisasi bagi pelanggan setia"
      ],
      "metadata": {
        "id": "QaXbzT3bVvsJ"
      }
    },
    {
      "cell_type": "markdown",
      "source": [
        "# --- Kesimpulan\n",
        "\n"
      ],
      "metadata": {
        "id": "E_emr-f0b_Zr"
      }
    },
    {
      "cell_type": "markdown",
      "source": [
        "Kesimpulannya, strategi berbasis data sangat penting dalam pemasaran fashion di Amazon. Dengan memahami preferensi pelanggan, mengoptimalkan SEO, membangun diferensiasi produk, dan menargetkan iklan secara tepat, merek dapat meningkatkan penjualan, daya saing, serta loyalitas pelanggan. Studi kasus dari Nike, Levi’s, Uniqlo, Adidas, dan H&M menunjukkan bahwa pendekatan ini terbukti efektif dalam menghadapi persaingan yang ketat."
      ],
      "metadata": {
        "id": "aWAo61oLcFm9"
      }
    }
  ]
}